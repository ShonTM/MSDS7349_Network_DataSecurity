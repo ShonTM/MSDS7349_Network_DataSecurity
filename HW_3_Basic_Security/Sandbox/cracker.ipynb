{
 "cells": [
  {
   "cell_type": "code",
   "execution_count": 1,
   "metadata": {},
   "outputs": [],
   "source": [
    "from fcrypt import crypt"
   ]
  },
  {
   "cell_type": "code",
   "execution_count": 2,
   "metadata": {},
   "outputs": [],
   "source": [
    "#password = 'egg'\n",
    "#salt = \"HX\"\n",
    "#hash = crypt(password, salt)"
   ]
  },
  {
   "cell_type": "code",
   "execution_count": 3,
   "metadata": {},
   "outputs": [],
   "source": [
    "#print('Password:',password,' Salt:',salt,' Hash:',hash)"
   ]
  },
  {
   "cell_type": "code",
   "execution_count": 11,
   "metadata": {},
   "outputs": [
    {
     "name": "stdout",
     "output_type": "stream",
     "text": [
      "('apple', 'apple')\n",
      "('orange', 'orange')\n",
      "('egg', 'egg')\n",
      "('lemon', 'lemon')\n",
      "('grapes', 'grapes')\n",
      "('secret', 'secret')\n",
      "('strawberry', 'strawberry')\n",
      "('password', 'password')\n"
     ]
    }
   ],
   "source": [
    "with open('HW3dictionary_2_2_2_2_2_2.txt','r') as f:\n",
    "    for line in f:\n",
    "        for word in line.split():\n",
    "            passwords = word\n",
    "            print(word, passwords)\n",
    "            #print(type(word))\n",
    "            "
   ]
  },
  {
   "cell_type": "code",
   "execution_count": null,
   "metadata": {},
   "outputs": [],
   "source": []
  },
  {
   "cell_type": "code",
   "execution_count": 4,
   "metadata": {},
   "outputs": [
    {
     "ename": "SyntaxError",
     "evalue": "invalid syntax (<ipython-input-4-3ffa17611cf8>, line 9)",
     "output_type": "error",
     "traceback": [
      "\u001b[1;36m  File \u001b[1;32m\"<ipython-input-4-3ffa17611cf8>\"\u001b[1;36m, line \u001b[1;32m9\u001b[0m\n\u001b[1;33m    print ()'Password = ',word,'\\n')\u001b[0m\n\u001b[1;37m                        ^\u001b[0m\n\u001b[1;31mSyntaxError\u001b[0m\u001b[1;31m:\u001b[0m invalid syntax\n"
     ]
    }
   ],
   "source": [
    "#define function to find the encrypted password.\n",
    "def findpass(cryptpass, dictname):\n",
    "    salt = cryptpass[0:2]\n",
    "    dictfile = open(dictname, 'r')\n",
    "    for word in dictfile.readlines():\n",
    "        word = word.strip('\\n')\n",
    "        cryptword = crypt.crypt(word, salt)\n",
    "        if (cryptword == cryptpass):\n",
    "            print ('Password = ',word,'\\n')\n",
    "            return\n",
    "\n",
    "    print ('Password Not Found')\n",
    "    return\n",
    "\n",
    "#Main function to iterate through encrypted passwords and pass values to 'findpass' to attempt to crack the password\n",
    "def main():\n",
    "    passwordfile = open('HW3passwords_2_2_2_2_2_2.txt', 'r')\n",
    "    for line in passwordfile.readlines():\n",
    "        if ':' in line:\n",
    "            user = line.split(':')[0]\n",
    "            cryptpass = line.split(':')[1].strip(' ')\n",
    "            print('Finding password for:', user, cryptpass)\n",
    "            print(user, cryptpass)\n",
    "            findpass(cryptpass, 'HW3dictionary_2_2_2_2_2_2.txt')\n",
    "            print(user, cryptpass)\n",
    "\n",
    "if __name__ == '__main__':\n",
    "    from fcrypt import crypt\n",
    "    main()"
   ]
  },
  {
   "cell_type": "code",
   "execution_count": null,
   "metadata": {},
   "outputs": [],
   "source": []
  }
 ],
 "metadata": {
  "kernelspec": {
   "display_name": "Python 3",
   "language": "python",
   "name": "python3"
  },
  "language_info": {
   "codemirror_mode": {
    "name": "ipython",
    "version": 3
   },
   "file_extension": ".py",
   "mimetype": "text/x-python",
   "name": "python",
   "nbconvert_exporter": "python",
   "pygments_lexer": "ipython3",
   "version": "3.6.4"
  }
 },
 "nbformat": 4,
 "nbformat_minor": 2
}
