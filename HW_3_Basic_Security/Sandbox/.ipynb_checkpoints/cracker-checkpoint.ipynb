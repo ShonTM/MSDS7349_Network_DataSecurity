{
 "cells": [
  {
   "cell_type": "code",
   "execution_count": 1,
   "metadata": {},
   "outputs": [],
   "source": [
    "from fcrypt import crypt"
   ]
  },
  {
   "cell_type": "code",
   "execution_count": 2,
   "metadata": {},
   "outputs": [],
   "source": [
    "#password = 'egg'\n",
    "#salt = \"HX\"\n",
    "#hash = crypt(password, salt)"
   ]
  },
  {
   "cell_type": "code",
   "execution_count": 3,
   "metadata": {},
   "outputs": [],
   "source": [
    "#print('Password:',password,' Salt:',salt,' Hash:',hash)"
   ]
  },
  {
   "cell_type": "code",
   "execution_count": 11,
   "metadata": {},
   "outputs": [
    {
     "name": "stdout",
     "output_type": "stream",
     "text": [
      "('apple', 'apple')\n",
      "('orange', 'orange')\n",
      "('egg', 'egg')\n",
      "('lemon', 'lemon')\n",
      "('grapes', 'grapes')\n",
      "('secret', 'secret')\n",
      "('strawberry', 'strawberry')\n",
      "('password', 'password')\n"
     ]
    }
   ],
   "source": [
    "with open('HW3dictionary_2_2_2_2_2_2.txt','r') as f:\n",
    "    for line in f:\n",
    "        for word in line.split():\n",
    "            passwords = word\n",
    "            print(word, passwords)\n",
    "            #print(type(word))\n",
    "            "
   ]
  },
  {
   "cell_type": "code",
   "execution_count": null,
   "metadata": {},
   "outputs": [],
   "source": []
  },
  {
   "cell_type": "code",
   "execution_count": 7,
   "metadata": {},
   "outputs": [
    {
     "name": "stdout",
     "output_type": "stream",
     "text": [
      "('Finding password for:', 'victim', 'HX9LLTdc/jiDE')\n",
      "('victim', 'HX9LLTdc/jiDE')\n"
     ]
    },
    {
     "ename": "AttributeError",
     "evalue": "'function' object has no attribute 'crypt'",
     "output_type": "error",
     "traceback": [
      "\u001b[1;31m\u001b[0m",
      "\u001b[1;31mAttributeError\u001b[0mTraceback (most recent call last)",
      "\u001b[1;32m<ipython-input-7-2718dd84288d>\u001b[0m in \u001b[0;36m<module>\u001b[1;34m()\u001b[0m\n\u001b[0;32m     27\u001b[0m \u001b[1;32mif\u001b[0m \u001b[0m__name__\u001b[0m \u001b[1;33m==\u001b[0m \u001b[1;34m'__main__'\u001b[0m\u001b[1;33m:\u001b[0m\u001b[1;33m\u001b[0m\u001b[0m\n\u001b[0;32m     28\u001b[0m     \u001b[1;32mfrom\u001b[0m \u001b[0mfcrypt\u001b[0m \u001b[1;32mimport\u001b[0m \u001b[0mcrypt\u001b[0m\u001b[1;33m\u001b[0m\u001b[0m\n\u001b[1;32m---> 29\u001b[1;33m     \u001b[0mmain\u001b[0m\u001b[1;33m(\u001b[0m\u001b[1;33m)\u001b[0m\u001b[1;33m\u001b[0m\u001b[0m\n\u001b[0m",
      "\u001b[1;32m<ipython-input-7-2718dd84288d>\u001b[0m in \u001b[0;36mmain\u001b[1;34m()\u001b[0m\n\u001b[0;32m     22\u001b[0m             \u001b[1;32mprint\u001b[0m\u001b[1;33m(\u001b[0m\u001b[1;34m'Finding password for:'\u001b[0m\u001b[1;33m,\u001b[0m \u001b[0muser\u001b[0m\u001b[1;33m,\u001b[0m \u001b[0mcryptpass\u001b[0m\u001b[1;33m)\u001b[0m\u001b[1;33m\u001b[0m\u001b[0m\n\u001b[0;32m     23\u001b[0m             \u001b[1;32mprint\u001b[0m\u001b[1;33m(\u001b[0m\u001b[0muser\u001b[0m\u001b[1;33m,\u001b[0m \u001b[0mcryptpass\u001b[0m\u001b[1;33m)\u001b[0m\u001b[1;33m\u001b[0m\u001b[0m\n\u001b[1;32m---> 24\u001b[1;33m             \u001b[0mfindpass\u001b[0m\u001b[1;33m(\u001b[0m\u001b[0mcryptpass\u001b[0m\u001b[1;33m,\u001b[0m \u001b[1;34m'HW3dictionary_2_2_2_2_2_2.txt'\u001b[0m\u001b[1;33m)\u001b[0m\u001b[1;33m\u001b[0m\u001b[0m\n\u001b[0m\u001b[0;32m     25\u001b[0m             \u001b[1;32mprint\u001b[0m\u001b[1;33m(\u001b[0m\u001b[0muser\u001b[0m\u001b[1;33m,\u001b[0m \u001b[0mcryptpass\u001b[0m\u001b[1;33m)\u001b[0m\u001b[1;33m\u001b[0m\u001b[0m\n\u001b[0;32m     26\u001b[0m \u001b[1;33m\u001b[0m\u001b[0m\n",
      "\u001b[1;32m<ipython-input-7-2718dd84288d>\u001b[0m in \u001b[0;36mfindpass\u001b[1;34m(cryptpass, dictname)\u001b[0m\n\u001b[0;32m      5\u001b[0m     \u001b[1;32mfor\u001b[0m \u001b[0mword\u001b[0m \u001b[1;32min\u001b[0m \u001b[0mdictfile\u001b[0m\u001b[1;33m.\u001b[0m\u001b[0mreadlines\u001b[0m\u001b[1;33m(\u001b[0m\u001b[1;33m)\u001b[0m\u001b[1;33m:\u001b[0m\u001b[1;33m\u001b[0m\u001b[0m\n\u001b[0;32m      6\u001b[0m         \u001b[0mword\u001b[0m \u001b[1;33m=\u001b[0m \u001b[0mword\u001b[0m\u001b[1;33m.\u001b[0m\u001b[0mstrip\u001b[0m\u001b[1;33m(\u001b[0m\u001b[1;34m'\\n'\u001b[0m\u001b[1;33m)\u001b[0m\u001b[1;33m\u001b[0m\u001b[0m\n\u001b[1;32m----> 7\u001b[1;33m         \u001b[0mcryptword\u001b[0m \u001b[1;33m=\u001b[0m \u001b[0mcrypt\u001b[0m\u001b[1;33m.\u001b[0m\u001b[0mcrypt\u001b[0m\u001b[1;33m(\u001b[0m\u001b[0mword\u001b[0m\u001b[1;33m,\u001b[0m \u001b[0msalt\u001b[0m\u001b[1;33m)\u001b[0m\u001b[1;33m\u001b[0m\u001b[0m\n\u001b[0m\u001b[0;32m      8\u001b[0m         \u001b[1;32mif\u001b[0m \u001b[1;33m(\u001b[0m\u001b[0mcryptword\u001b[0m \u001b[1;33m==\u001b[0m \u001b[0mcryptpass\u001b[0m\u001b[1;33m)\u001b[0m\u001b[1;33m:\u001b[0m\u001b[1;33m\u001b[0m\u001b[0m\n\u001b[0;32m      9\u001b[0m             \u001b[1;32mprint\u001b[0m \u001b[1;34m'Password = '\u001b[0m\u001b[1;33m+\u001b[0m\u001b[0mword\u001b[0m\u001b[1;33m+\u001b[0m\u001b[1;34m'\\n'\u001b[0m\u001b[1;33m\u001b[0m\u001b[0m\n",
      "\u001b[1;31mAttributeError\u001b[0m: 'function' object has no attribute 'crypt'"
     ]
    }
   ],
   "source": [
    "#define function to find the encrypted password.\n",
    "def findpass(cryptpass, dictname):\n",
    "    salt = cryptpass[0:2]\n",
    "    dictfile = open(dictname, 'r')\n",
    "    for word in dictfile.readlines():\n",
    "        word = word.strip('\\n')\n",
    "        cryptword = crypt.crypt(word, salt)\n",
    "        if (cryptword == cryptpass):\n",
    "            print 'Password = '+word+'\\n'\n",
    "            return\n",
    "\n",
    "    print 'Password Not Found'\n",
    "    return\n",
    "\n",
    "#Main function to iterate through encrypted passwords and pass values to 'findpass' to attempt to crack the password\n",
    "def main():\n",
    "    passwordfile = open('HW3passwords_2_2_2_2_2_2.txt', 'r')\n",
    "    for line in passwordfile.readlines():\n",
    "        if ':' in line:\n",
    "            user = line.split(':')[0]\n",
    "            cryptpass = line.split(':')[1].strip(' ')\n",
    "            print('Finding password for:', user, cryptpass)\n",
    "            print(user, cryptpass)\n",
    "            findpass(cryptpass, 'HW3dictionary_2_2_2_2_2_2.txt')\n",
    "            print(user, cryptpass)\n",
    "\n",
    "if __name__ == '__main__':\n",
    "    from fcrypt import crypt\n",
    "    main()"
   ]
  },
  {
   "cell_type": "code",
   "execution_count": null,
   "metadata": {},
   "outputs": [],
   "source": []
  }
 ],
 "metadata": {
  "kernelspec": {
   "display_name": "Python 2",
   "language": "python",
   "name": "python2"
  },
  "language_info": {
   "codemirror_mode": {
    "name": "ipython",
    "version": 2
   },
   "file_extension": ".py",
   "mimetype": "text/x-python",
   "name": "python",
   "nbconvert_exporter": "python",
   "pygments_lexer": "ipython2",
   "version": "2.7.15"
  }
 },
 "nbformat": 4,
 "nbformat_minor": 2
}
