{
 "cells": [
  {
   "cell_type": "markdown",
   "metadata": {},
   "source": [
    "####  MDSD 7349-404 HW2 Exercise 3\n",
    "#####  Jeffrey Lancon     Oct 7, 2018\n",
    "  \n",
    "References:  \n",
    "https://www.thehackr.com/encrypt-and-decrypt-images-using-python/  \n",
    "https://eli.thegreenplace.net/2010/06/25/aes-encryption-of-files-in-python-with-pycrypto  \n",
    "https://stackoverflow.com/questions/44314026/how-to-create-image-from-binary-string  \n",
    "https://stevenwooding.com/python-example-encryption-using-aes-in-counter-mode/  \n"
   ]
  },
  {
   "cell_type": "code",
   "execution_count": 1,
   "metadata": {},
   "outputs": [],
   "source": [
    "import os\n",
    "from Crypto.Cipher import AES\n",
    "from Crypto.Util import Counter\n",
    "from PIL import Image"
   ]
  },
  {
   "cell_type": "code",
   "execution_count": 2,
   "metadata": {},
   "outputs": [],
   "source": [
    "#  set key and initialization vector\n",
    "Pkey = '0123456789abcdef'\n",
    "IV = '0123456789012345' # IV should be randomly generated but a fixed value was chosen for this example"
   ]
  },
  {
   "cell_type": "code",
   "execution_count": 3,
   "metadata": {},
   "outputs": [],
   "source": [
    "# AES Encryption: Encrypt image file and save results as .jpeg file\n",
    "def encryption(input_filename,output_filename,cipher_mode,key,vector):\n",
    "  \n",
    "    # Open image to encrypt and display on screen\n",
    "    jpgimage = Image.open(input_filename)\n",
    "    jpgimage.show()\n",
    "    \n",
    "    # Extract image byte data\n",
    "    jpgimage_src = jpgimage.tobytes()\n",
    "    \n",
    "    # Establish parameters for cipher modes\n",
    "    if cipher_mode == AES.MODE_CBC: # CBC cipher mode\n",
    "        print('CBC')\n",
    "        encryptor = AES.new(key,cipher_mode,vector)\n",
    "    \n",
    "    if cipher_mode == AES.MODE_CTR: # CTR cipher mode\n",
    "        print('CTR')\n",
    "        #  create encoded 128bit counter using IV as the initial value\n",
    "        ctr = Counter.new(128, initial_value=vector)\n",
    "        encryptor = AES.new(key, cipher_mode,counter=ctr)\n",
    "    \n",
    "    if cipher_mode == AES.MODE_ECB: #ECB cipher mode\n",
    "        print('ECB')\n",
    "        encryptor = AES.new(key, AES.MODE_ECB)\n",
    "    \n",
    "    # Perform encryption\n",
    "    crypt = encryptor.encrypt(jpgimage_src)\n",
    "    jpgimage_enc = Image.frombytes('RGB', jpgimage.size, crypt)\n",
    "    \n",
    "    # Save encrypted image to file and display on screen\n",
    "    jpgimage_enc.save(output_filename)\n",
    "    jpgimage_enc.show()"
   ]
  },
  {
   "cell_type": "code",
   "execution_count": 4,
   "metadata": {},
   "outputs": [
    {
     "name": "stdout",
     "output_type": "stream",
     "text": [
      "CBC\n",
      "Wall time: 2.59 s\n"
     ]
    }
   ],
   "source": [
    "%%time\n",
    "# AES_CBC Encryption Function Call\n",
    "encryption('.\\TajMahal.jpeg','.\\CBC_TajMahal.jpeg',AES.MODE_CBC,Pkey,IV)"
   ]
  },
  {
   "cell_type": "code",
   "execution_count": 5,
   "metadata": {},
   "outputs": [
    {
     "name": "stdout",
     "output_type": "stream",
     "text": [
      "CTR\n",
      "Wall time: 2.63 s\n"
     ]
    }
   ],
   "source": [
    "%%time\n",
    "# AES_CTR Encryption Function Call\n",
    "encryption(\".\\TajMahal.jpeg\",'.\\CTR_TajMahal.jpeg',AES.MODE_CTR,Pkey,IV)"
   ]
  },
  {
   "cell_type": "code",
   "execution_count": 6,
   "metadata": {},
   "outputs": [
    {
     "name": "stdout",
     "output_type": "stream",
     "text": [
      "ECB\n",
      "Wall time: 2.6 s\n"
     ]
    }
   ],
   "source": [
    "%%time\n",
    "# AES_ECB Encryption Function Call\n",
    "encryption(\".\\TajMahal.jpeg\",'.\\ECB_TajMahal.jpeg',AES.MODE_ECB,Pkey,IV)"
   ]
  }
 ],
 "metadata": {
  "kernelspec": {
   "display_name": "Python 3",
   "language": "python",
   "name": "python3"
  },
  "language_info": {
   "codemirror_mode": {
    "name": "ipython",
    "version": 3
   },
   "file_extension": ".py",
   "mimetype": "text/x-python",
   "name": "python",
   "nbconvert_exporter": "python",
   "pygments_lexer": "ipython3",
   "version": "3.6.4"
  }
 },
 "nbformat": 4,
 "nbformat_minor": 2
}
