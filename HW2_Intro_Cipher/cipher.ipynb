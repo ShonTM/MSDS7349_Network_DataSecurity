{
 "cells": [
  {
   "cell_type": "markdown",
   "metadata": {},
   "source": [
    "#### MSDS 7349-404 Data and Network Security\n",
    "Homework_2    Introduction to Ciphers  \n",
    "Jeffrey Lancon  \n",
    "Date: 7 Oct 2018"
   ]
  },
  {
   "cell_type": "code",
   "execution_count": 1,
   "metadata": {},
   "outputs": [
    {
     "name": "stdout",
     "output_type": "stream",
     "text": [
      "97 a\n"
     ]
    }
   ],
   "source": [
    "import pandas as pd\n",
    "import numpy as np\n",
    "\n",
    "letter = 'a';\n",
    "# Converts letters to ASCII Code\n",
    "asciiCode = ord(letter)\n",
    "\n",
    "#Converts ASCII code to a letter\n",
    "letterRes = chr(asciiCode)\n",
    "af = 0\n",
    "# Print Results\n",
    "print(asciiCode, letterRes)"
   ]
  },
  {
   "cell_type": "markdown",
   "metadata": {},
   "source": [
    "##### Exercise 1:  Problem # 1  "
   ]
  },
  {
   "cell_type": "code",
   "execution_count": 2,
   "metadata": {},
   "outputs": [
    {
     "name": "stdout",
     "output_type": "stream",
     "text": [
      "Phrase to encode: MayDay! Mayday!\n",
      "Shift Value : 4\n"
     ]
    }
   ],
   "source": [
    "# Requesting User to input an alpha/numeric phrase that they want to cipher\n",
    "# and storing the input as a string variable 'phrase'.\n",
    "# Also, requests user to input numeric variable for the shift value (how many\n",
    "# characters do you want to advance or backup) and store input value in integer\n",
    "# variable 'shiftValue'.\n",
    "phrase = input('Phrase to encode: ')\n",
    "shiftValue = int(input('Shift Value : '))"
   ]
  },
  {
   "cell_type": "code",
   "execution_count": 3,
   "metadata": {},
   "outputs": [
    {
     "name": "stdout",
     "output_type": "stream",
     "text": [
      "MayDay! Mayday!\n"
     ]
    }
   ],
   "source": [
    "# Initalizing 'encodedPhrase' string variable with an empty character string. \n",
    "# The For-loop cycles/indexes through each character of pharse[c] string and\n",
    "# adds the indexed value of phrase to the encodedPhrase string \n",
    "encodedPhrase = \"\"\n",
    "for c in phrase:\n",
    "    encodedPhrase = encodedPhrase + c\n",
    "print(encodedPhrase)"
   ]
  },
  {
   "cell_type": "markdown",
   "metadata": {},
   "source": [
    "##### Exercise 1: Problem # 2  "
   ]
  },
  {
   "cell_type": "code",
   "execution_count": 4,
   "metadata": {},
   "outputs": [
    {
     "name": "stdout",
     "output_type": "stream",
     "text": [
      "XxxXxx! Xxxxxx!\n"
     ]
    }
   ],
   "source": [
    "# Re-Initalizing encodedPhrase string to clear memory from previous problem\n",
    "encodedPhrase = \"\"\n",
    "for i in phrase:\n",
    "    # Checks to see if phrase[i] value is a-z (Dec 97-122).  If so, \n",
    "    # it replaces phrase[i] with a small x.\n",
    "    if i in \"abcdefghijklmnopqrstuvwxyz\":\n",
    "        i = 'x'\n",
    "\n",
    "    # Checks to see if phrase[i] value is A-Z (Dec 65-90).  If so, \n",
    "    # it replaces phrase[i] with a capital X.\n",
    "    if i in \"ABCDEFGHIJKLMNOPQRSTUVWXYZ\":\n",
    "        i = 'X'\n",
    "    # If any of the above conditions of phrase[i] are met, the appropriate\n",
    "    # modified value of phrase[i] is added to the encodedPhrase. If pharse[i]\n",
    "    # does not match any of the above conditions, phrase[i] is added to as-is\n",
    "    encodedPhrase = encodedPhrase + i\n",
    "\n",
    "print (encodedPhrase)"
   ]
  },
  {
   "cell_type": "markdown",
   "metadata": {},
   "source": [
    "##### Exercise 1: Problem # 3  "
   ]
  },
  {
   "cell_type": "code",
   "execution_count": 5,
   "metadata": {},
   "outputs": [
    {
     "name": "stdout",
     "output_type": "stream",
     "text": [
      "QecHec! Qechec!\n"
     ]
    }
   ],
   "source": [
    "# Initalizing encodedPhrase string\n",
    "encodedPhrase = \"\"\n",
    "for i in phrase:\n",
    "    #Checks to see if phrase[i] value is a-z (Dec 97-122).  If so, \n",
    "    #changes ascii value to decimal and subtracts the base value 97,\n",
    "    #then adds shift value. Next performs modulo 26 operation on the\n",
    "    #value i and adds back the base value and converts back to ascii\n",
    "    if i in \"abcdefghijklmnopqrstuvwxyz\":\n",
    "        i = (ord(i) - 97 + shiftValue)\n",
    "        i = chr(i%26 + 97)\n",
    "\n",
    "    # Performs the same function as above but uses the ascii values\n",
    "    # for capital letters A-Z (Dec 65-90).\n",
    "    if i in \"ABCDEFGHIJKLMNOPQRSTUVWXYZ\":\n",
    "        i = (ord(i) - 65 + shiftValue)\n",
    "        i = chr(i%26 + 65)\n",
    "    encodedPhrase = encodedPhrase + i\n",
    "print (encodedPhrase)"
   ]
  },
  {
   "cell_type": "code",
   "execution_count": 6,
   "metadata": {},
   "outputs": [],
   "source": [
    "def decryptFunction(encodedPhrase):\n",
    "    finalPhrase = []\n",
    "    for j in range(0,25):\n",
    "        uncodedPhrase = \"\"\n",
    "        for i in encodedPhrase:\n",
    "            #Checks to see if phrase[i] value is a-z (Dec 97-122).  If so, \n",
    "            #changes ascii value to decimal and subtracts the base value 97,\n",
    "            #then adds shift value. Next performs modulo 26 operation on the\n",
    "            #value i and adds back the base value and converts back to ascii\n",
    "            if i in \"abcdefghijklmnopqrstuvwxyz\":\n",
    "                i = (ord(i) - 97 - j)\n",
    "                i = chr(i%26 + 97)\n",
    "\n",
    "            # Performs the same function as above but uses the ascii values\n",
    "            # for capital letters A-Z (Dec 65-90).\n",
    "            if i in \"ABCDEFGHIJKLMNOPQRSTUVWXYZ\":\n",
    "                i = (ord(i) - 65 - j)\n",
    "                i = chr(i%26 + 65)\n",
    "            uncodedPhrase = uncodedPhrase + i\n",
    "        finalPhrase.append(uncodedPhrase)\n",
    "    return finalPhrase"
   ]
  },
  {
   "cell_type": "code",
   "execution_count": 7,
   "metadata": {},
   "outputs": [
    {
     "name": "stdout",
     "output_type": "stream",
     "text": [
      "Key: A / 0     QecHec! Qechec!\n",
      "Key: B / 1     PdbGdb! Pdbgdb!\n",
      "Key: C / 2     OcaFca! Ocafca!\n",
      "Key: D / 3     NbzEbz! Nbzebz!\n",
      "Key: E / 4     MayDay! Mayday!\n",
      "Key: F / 5     LzxCzx! Lzxczx!\n",
      "Key: G / 6     KywByw! Kywbyw!\n",
      "Key: H / 7     JxvAxv! Jxvaxv!\n",
      "Key: I / 8     IwuZwu! Iwuzwu!\n",
      "Key: J / 9     HvtYvt! Hvtyvt!\n",
      "Key: K / 10     GusXus! Gusxus!\n",
      "Key: L / 11     FtrWtr! Ftrwtr!\n",
      "Key: M / 12     EsqVsq! Esqvsq!\n",
      "Key: N / 13     DrpUrp! Drpurp!\n",
      "Key: O / 14     CqoTqo! Cqotqo!\n",
      "Key: P / 15     BpnSpn! Bpnspn!\n",
      "Key: Q / 16     AomRom! Aomrom!\n",
      "Key: R / 17     ZnlQnl! Znlqnl!\n",
      "Key: S / 18     YmkPmk! Ymkpmk!\n",
      "Key: T / 19     XljOlj! Xljolj!\n",
      "Key: U / 20     WkiNki! Wkinki!\n",
      "Key: V / 21     VjhMjh! Vjhmjh!\n",
      "Key: W / 22     UigLig! Uiglig!\n",
      "Key: X / 23     ThfKhf! Thfkhf!\n",
      "Key: Y / 24     SgeJge! Sgejge!\n"
     ]
    }
   ],
   "source": [
    "finalPhrase = decryptFunction(encodedPhrase)\n",
    "for j in range(0,25):\n",
    "    print('Key:', chr(j+65) ,'/',j, \"   \", finalPhrase[j])"
   ]
  },
  {
   "cell_type": "markdown",
   "metadata": {},
   "source": [
    "  \n",
    "  \n",
    "  \n",
    "#### Problem #2 - Brute Force Decipher Attempt"
   ]
  },
  {
   "cell_type": "code",
   "execution_count": 8,
   "metadata": {},
   "outputs": [
    {
     "name": "stdout",
     "output_type": "stream",
     "text": [
      "Phrase to Decrypt: Hjrrthh xh cdi uxcpa, upxajgt xh cdi upipa: xi xh iwt rdjgpvt id rdcixcjt iwpi rdjcih.\n"
     ]
    }
   ],
   "source": [
    "encodedPhrase = input('Phrase to Decrypt: ')\n",
    "#encodedPhrase = \"Rbqsa Adywxj: (Qvjuh dejysydw jxqj xu xqi de bycri buvj) Qbb hywxj, mu'bb sqbb yj q thqm.\"\n",
    "#encodedPhrase = \"Hjrrthh xh cdi uxcpa, upxajgt xh cdi upipa: xi xh iwt rdjgpvt id rdcixcjt iwpi rdjcih.\"\n",
    "#encodedPhrase = \"KHOOR ZRUOG\""
   ]
  },
  {
   "cell_type": "code",
   "execution_count": 9,
   "metadata": {},
   "outputs": [
    {
     "name": "stdout",
     "output_type": "stream",
     "text": [
      "Key: A / 0     Hjrrthh xh cdi uxcpa, upxajgt xh cdi upipa: xi xh iwt rdjgpvt id rdcixcjt iwpi rdjcih.\n",
      "Key: B / 1     Giqqsgg wg bch twboz, towzifs wg bch tohoz: wh wg hvs qcifous hc qcbhwbis hvoh qcibhg.\n",
      "Key: C / 2     Fhpprff vf abg svany, snvyher vf abg sngny: vg vf gur pbhentr gb pbagvahr gung pbhagf.\n",
      "Key: D / 3     Egooqee ue zaf ruzmx, rmuxgdq ue zaf rmfmx: uf ue ftq oagdmsq fa oazfuzgq ftmf oagzfe.\n",
      "Key: E / 4     Dfnnpdd td yze qtylw, qltwfcp td yze qlelw: te td esp nzfclrp ez nzyetyfp esle nzfyed.\n",
      "Key: F / 5     Cemmocc sc xyd psxkv, pksvebo sc xyd pkdkv: sd sc dro myebkqo dy myxdsxeo drkd myexdc.\n",
      "Key: G / 6     Bdllnbb rb wxc orwju, ojrudan rb wxc ojcju: rc rb cqn lxdajpn cx lxwcrwdn cqjc lxdwcb.\n",
      "Key: H / 7     Ackkmaa qa vwb nqvit, niqtczm qa vwb nibit: qb qa bpm kwcziom bw kwvbqvcm bpib kwcvba.\n",
      "Key: I / 8     Zbjjlzz pz uva mpuhs, mhpsbyl pz uva mhahs: pa pz aol jvbyhnl av jvuapubl aoha jvbuaz.\n",
      "Key: J / 9     Yaiikyy oy tuz lotgr, lgoraxk oy tuz lgzgr: oz oy znk iuaxgmk zu iutzotak zngz iuatzy.\n",
      "Key: K / 10     Xzhhjxx nx sty knsfq, kfnqzwj nx sty kfyfq: ny nx ymj htzwflj yt htsynszj ymfy htzsyx.\n",
      "Key: L / 11     Wyggiww mw rsx jmrep, jempyvi mw rsx jexep: mx mw xli gsyveki xs gsrxmryi xlex gsyrxw.\n",
      "Key: M / 12     Vxffhvv lv qrw ilqdo, idloxuh lv qrw idwdo: lw lv wkh frxudjh wr frqwlqxh wkdw frxqwv.\n",
      "Key: N / 13     Uweeguu ku pqv hkpcn, hcknwtg ku pqv hcvcn: kv ku vjg eqwtcig vq eqpvkpwg vjcv eqwpvu.\n",
      "Key: O / 14     Tvddftt jt opu gjobm, gbjmvsf jt opu gbubm: ju jt uif dpvsbhf up dpoujovf uibu dpvout.\n",
      "Key: P / 15     Success is not final, failure is not fatal: it is the courage to continue that counts.\n",
      "Key: Q / 16     Rtbbdrr hr mns ehmzk, ezhktqd hr mns ezszk: hs hr sgd bntqzfd sn bnmshmtd sgzs bntmsr.\n",
      "Key: R / 17     Qsaacqq gq lmr dglyj, dygjspc gq lmr dyryj: gr gq rfc amspyec rm amlrglsc rfyr amslrq.\n",
      "Key: S / 18     Przzbpp fp klq cfkxi, cxfirob fp klq cxqxi: fq fp qeb zlroxdb ql zlkqfkrb qexq zlrkqp.\n",
      "Key: T / 19     Oqyyaoo eo jkp bejwh, bwehqna eo jkp bwpwh: ep eo pda ykqnwca pk ykjpejqa pdwp ykqjpo.\n",
      "Key: U / 20     Npxxznn dn ijo adivg, avdgpmz dn ijo avovg: do dn ocz xjpmvbz oj xjiodipz ocvo xjpion.\n",
      "Key: V / 21     Mowwymm cm hin zchuf, zucfoly cm hin zunuf: cn cm nby wioluay ni wihnchoy nbun wiohnm.\n",
      "Key: W / 22     Lnvvxll bl ghm ybgte, ytbenkx bl ghm ytmte: bm bl max vhnktzx mh vhgmbgnx matm vhngml.\n",
      "Key: X / 23     Kmuuwkk ak fgl xafsd, xsadmjw ak fgl xslsd: al ak lzw ugmjsyw lg ugflafmw lzsl ugmflk.\n",
      "Key: Y / 24     Jlttvjj zj efk wzerc, wrzcliv zj efk wrkrc: zk zj kyv tflirxv kf tfekzelv kyrk tflekj.\n"
     ]
    }
   ],
   "source": [
    "finalPhrase = decryptFunction(encodedPhrase)\n",
    "for j in range(0,25):\n",
    "    print('Key:', chr(j+65) ,'/',j, \"   \", finalPhrase[j])"
   ]
  },
  {
   "cell_type": "code",
   "execution_count": 10,
   "metadata": {},
   "outputs": [
    {
     "name": "stdout",
     "output_type": "stream",
     "text": [
      "Decryption Key Number Code: 15\n",
      "Encrypted Phrase:    Hjrrthh xh cdi uxcpa, upxajgt xh cdi upipa: xi xh iwt rdjgpvt id rdcixcjt iwpi rdjcih.\n",
      "Decrypted Phrase:  Success is not final, failure is not fatal: it is the courage to continue that counts.\n"
     ]
    }
   ],
   "source": [
    "keyNum = int(input('Decryption Key Number Code: '))\n",
    "print ('Encrypted Phrase:   ', encodedPhrase)\n",
    "print ('Decrypted Phrase: ', finalPhrase[(keyNum)])"
   ]
  },
  {
   "cell_type": "markdown",
   "metadata": {},
   "source": [
    "#### Problem #2 - Statistical Decipher Attempt"
   ]
  },
  {
   "cell_type": "code",
   "execution_count": 11,
   "metadata": {},
   "outputs": [
    {
     "name": "stdout",
     "output_type": "stream",
     "text": [
      "hjrrthh xh cdi uxcpa, upxajgt xh cdi upipa: xi xh iwt rdjgpvt id rdcixcjt iwpi rdjcih.\n"
     ]
    }
   ],
   "source": [
    "# Converting encodedPhrase to lowercase\n",
    "encodedPhrase = str.lower(encodedPhrase)\n",
    "print(encodedPhrase)"
   ]
  },
  {
   "cell_type": "code",
   "execution_count": 12,
   "metadata": {},
   "outputs": [],
   "source": [
    "def char_frequency(str1):\n",
    "    dict = {}\n",
    "    phraseChr = 0\n",
    "    for n in str1:\n",
    "        keys = dict.keys()\n",
    "        if n in \"abcdefghijklmnopqrstuvwxyz\":\n",
    "            phraseChr += 1\n",
    "            if n in keys:\n",
    "                dict[n] += 1\n",
    "            else:\n",
    "                dict[n] = 1\n",
    "    # converting count to frequency\n",
    "    for n in \"abcdefghijklmnopqrstuvwxyz\":\n",
    "        if n in keys:\n",
    "            dict[n] = round((dict[n] / phraseChr),4)\n",
    "        else:\n",
    "            dict[n] = 0\n",
    "    return dict"
   ]
  },
  {
   "cell_type": "code",
   "execution_count": 13,
   "metadata": {},
   "outputs": [
    {
     "data": {
      "text/html": [
       "<div>\n",
       "<style scoped>\n",
       "    .dataframe tbody tr th:only-of-type {\n",
       "        vertical-align: middle;\n",
       "    }\n",
       "\n",
       "    .dataframe tbody tr th {\n",
       "        vertical-align: top;\n",
       "    }\n",
       "\n",
       "    .dataframe thead th {\n",
       "        text-align: right;\n",
       "    }\n",
       "</style>\n",
       "<table border=\"1\" class=\"dataframe\">\n",
       "  <thead>\n",
       "    <tr style=\"text-align: right;\">\n",
       "      <th></th>\n",
       "      <th>h</th>\n",
       "      <th>j</th>\n",
       "      <th>r</th>\n",
       "      <th>t</th>\n",
       "      <th>x</th>\n",
       "      <th>c</th>\n",
       "      <th>d</th>\n",
       "      <th>i</th>\n",
       "      <th>u</th>\n",
       "      <th>p</th>\n",
       "      <th>...</th>\n",
       "      <th>f</th>\n",
       "      <th>k</th>\n",
       "      <th>l</th>\n",
       "      <th>m</th>\n",
       "      <th>n</th>\n",
       "      <th>o</th>\n",
       "      <th>q</th>\n",
       "      <th>s</th>\n",
       "      <th>y</th>\n",
       "      <th>z</th>\n",
       "    </tr>\n",
       "  </thead>\n",
       "  <tbody>\n",
       "    <tr>\n",
       "      <th>0</th>\n",
       "      <td>0.1029</td>\n",
       "      <td>0.0735</td>\n",
       "      <td>0.0735</td>\n",
       "      <td>0.0735</td>\n",
       "      <td>0.1029</td>\n",
       "      <td>0.0882</td>\n",
       "      <td>0.0882</td>\n",
       "      <td>0.1471</td>\n",
       "      <td>0.0441</td>\n",
       "      <td>0.0882</td>\n",
       "      <td>...</td>\n",
       "      <td>0</td>\n",
       "      <td>0</td>\n",
       "      <td>0</td>\n",
       "      <td>0</td>\n",
       "      <td>0</td>\n",
       "      <td>0</td>\n",
       "      <td>0</td>\n",
       "      <td>0</td>\n",
       "      <td>0</td>\n",
       "      <td>0</td>\n",
       "    </tr>\n",
       "  </tbody>\n",
       "</table>\n",
       "<p>1 rows × 26 columns</p>\n",
       "</div>"
      ],
      "text/plain": [
       "        h       j       r       t       x       c       d       i       u  \\\n",
       "0  0.1029  0.0735  0.0735  0.0735  0.1029  0.0882  0.0882  0.1471  0.0441   \n",
       "\n",
       "        p ...  f  k  l  m  n  o  q  s  y  z  \n",
       "0  0.0882 ...  0  0  0  0  0  0  0  0  0  0  \n",
       "\n",
       "[1 rows x 26 columns]"
      ]
     },
     "execution_count": 13,
     "metadata": {},
     "output_type": "execute_result"
    }
   ],
   "source": [
    "# Determining Frequency of character appearance in encrypted phrase\n",
    "encodedFreq = char_frequency(encodedPhrase)\n",
    "df = pd.DataFrame([encodedFreq], columns=encodedFreq.keys())\n",
    "df.head()"
   ]
  },
  {
   "cell_type": "code",
   "execution_count": 14,
   "metadata": {},
   "outputs": [],
   "source": [
    "# frequency distribution table for the English language\n",
    "distrib = [8.2,1.5,2.8,4.3,12.7,2.2,2.0,6.1,7.0,0.2,0.8,4.0,2.4,6.7,\n",
    "            7.5,1.9,0.1,6.0,6.3,9.1,2.8,1.0,2.4,0.2,2.0,0.1]"
   ]
  },
  {
   "cell_type": "code",
   "execution_count": 15,
   "metadata": {},
   "outputs": [],
   "source": [
    "# Creating Chi value for each combinatoin of cipher and plain text frequencies\n",
    "#multiplying frequency of encrypted text with frequency of letter in English language\n",
    "chi = np.zeros(shape=(26,2))\n",
    "for i in range(0,26):\n",
    "    accumulator = 0\n",
    "    for n in \"abcdefghijklmnopqrstuvwxyz\":\n",
    "        accumulator += df[n] * ((distrib[((ord(n)-97)-i)%26])/100)\n",
    "    chi[i,0] = i\n",
    "    chi[i,1] = round(accumulator, 5)"
   ]
  },
  {
   "cell_type": "code",
   "execution_count": 16,
   "metadata": {},
   "outputs": [],
   "source": [
    "chi_df = pd.DataFrame(chi)\n",
    "chi_df.columns = ['Key', 'Correlation']\n",
    "chi_df['Key'] = chi_df.Key.astype(int)\n",
    "#chi_df.dtypes\n",
    "#chi_df.head()"
   ]
  },
  {
   "cell_type": "code",
   "execution_count": 17,
   "metadata": {},
   "outputs": [
    {
     "name": "stdout",
     "output_type": "stream",
     "text": [
      "Correlation for Offset 0 / A  is  0.04225\n",
      "Correlation for Offset 1 / B  is  0.03917\n",
      "Correlation for Offset 2 / C  is  0.04054\n",
      "Correlation for Offset 3 / D  is  0.04328\n",
      "Correlation for Offset 4 / E  is  0.05045\n",
      "Correlation for Offset 5 / F  is  0.03844\n",
      "Correlation for Offset 6 / G  is  0.03259\n",
      "Correlation for Offset 7 / H  is  0.03299\n",
      "Correlation for Offset 8 / I  is  0.03466\n",
      "Correlation for Offset 9 / J  is  0.04073\n",
      "Correlation for Offset 10 / K  is  0.03267\n",
      "Correlation for Offset 11 / L  is  0.03788\n",
      "Correlation for Offset 12 / M  is  0.03158\n",
      "Correlation for Offset 13 / N  is  0.03139\n",
      "Correlation for Offset 14 / O  is  0.03556\n",
      "Correlation for Offset 15 / P  is  0.06686\n",
      "Correlation for Offset 16 / Q  is  0.04768\n",
      "Correlation for Offset 17 / R  is  0.03617\n",
      "Correlation for Offset 18 / S  is  0.02525\n",
      "Correlation for Offset 19 / T  is  0.04115\n",
      "Correlation for Offset 20 / U  is  0.03745\n",
      "Correlation for Offset 21 / V  is  0.04181\n",
      "Correlation for Offset 22 / W  is  0.03931\n",
      "Correlation for Offset 23 / X  is  0.03236\n",
      "Correlation for Offset 24 / Y  is  0.03525\n",
      "Correlation for Offset 25 / Z  is  0.03522\n"
     ]
    }
   ],
   "source": [
    "for i in range(0,26):\n",
    "    print(\"Correlation for Offset\",chi_df.Key[i],\"/\", chr(chi_df.Key[i]+65),\" is \",chi_df.Correlation[i])"
   ]
  },
  {
   "cell_type": "code",
   "execution_count": 18,
   "metadata": {},
   "outputs": [
    {
     "name": "stdout",
     "output_type": "stream",
     "text": [
      "Decryption Key Number Code: 15\n",
      "Encoded Phrase:    hjrrthh xh cdi uxcpa, upxajgt xh cdi upipa: xi xh iwt rdjgpvt id rdcixcjt iwpi rdjcih.\n",
      "Decrypted Phrase:  success is not final, failure is not fatal: it is the courage to continue that counts.\n"
     ]
    }
   ],
   "source": [
    "keyNum = int(input('Decryption Key Number Code: '))\n",
    "finalPhrase = decryptFunction(encodedPhrase)\n",
    "print ('Encoded Phrase:   ', encodedPhrase)\n",
    "print ('Decrypted Phrase: ', finalPhrase[(keyNum)])"
   ]
  }
 ],
 "metadata": {
  "kernelspec": {
   "display_name": "Python 3",
   "language": "python",
   "name": "python3"
  },
  "language_info": {
   "codemirror_mode": {
    "name": "ipython",
    "version": 3
   },
   "file_extension": ".py",
   "mimetype": "text/x-python",
   "name": "python",
   "nbconvert_exporter": "python",
   "pygments_lexer": "ipython3",
   "version": "3.6.4"
  }
 },
 "nbformat": 4,
 "nbformat_minor": 2
}
